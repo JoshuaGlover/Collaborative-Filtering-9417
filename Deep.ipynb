{
 "cells": [
  {
   "cell_type": "code",
   "execution_count": 110,
   "metadata": {
    "scrolled": true
   },
   "outputs": [
    {
     "name": "stdout",
     "output_type": "stream",
     "text": [
      "611\n",
      "193610\n"
     ]
    }
   ],
   "source": [
    "import numpy as np\n",
    "import pandas as pd\n",
    "\n",
    "# Load ratings Change directory where appropriate\n",
    "directory = ''\n",
    "ratings = pd.read_csv(directory+'/ratings.csv', usecols=['userId', 'movieId', 'rating'])\n",
    "max_userid = ratings['userId'].drop_duplicates().max()+1\n",
    "max_movieid = ratings['movieId'].drop_duplicates().max() +1\n",
    "ratings.head()\n",
    "print(max_userid)\n",
    "print(max_movieid)"
   ]
  },
  {
   "cell_type": "code",
   "execution_count": 2,
   "metadata": {},
   "outputs": [
    {
     "data": {
      "text/html": [
       "<div>\n",
       "<style scoped>\n",
       "    .dataframe tbody tr th:only-of-type {\n",
       "        vertical-align: middle;\n",
       "    }\n",
       "\n",
       "    .dataframe tbody tr th {\n",
       "        vertical-align: top;\n",
       "    }\n",
       "\n",
       "    .dataframe thead th {\n",
       "        text-align: right;\n",
       "    }\n",
       "</style>\n",
       "<table border=\"1\" class=\"dataframe\">\n",
       "  <thead>\n",
       "    <tr style=\"text-align: right;\">\n",
       "      <th></th>\n",
       "      <th>movieId</th>\n",
       "      <th>title</th>\n",
       "      <th>genres</th>\n",
       "    </tr>\n",
       "  </thead>\n",
       "  <tbody>\n",
       "    <tr>\n",
       "      <th>0</th>\n",
       "      <td>1</td>\n",
       "      <td>Toy Story (1995)</td>\n",
       "      <td>Adventure|Animation|Children|Comedy|Fantasy</td>\n",
       "    </tr>\n",
       "    <tr>\n",
       "      <th>1</th>\n",
       "      <td>2</td>\n",
       "      <td>Jumanji (1995)</td>\n",
       "      <td>Adventure|Children|Fantasy</td>\n",
       "    </tr>\n",
       "    <tr>\n",
       "      <th>2</th>\n",
       "      <td>3</td>\n",
       "      <td>Grumpier Old Men (1995)</td>\n",
       "      <td>Comedy|Romance</td>\n",
       "    </tr>\n",
       "    <tr>\n",
       "      <th>3</th>\n",
       "      <td>4</td>\n",
       "      <td>Waiting to Exhale (1995)</td>\n",
       "      <td>Comedy|Drama|Romance</td>\n",
       "    </tr>\n",
       "    <tr>\n",
       "      <th>4</th>\n",
       "      <td>5</td>\n",
       "      <td>Father of the Bride Part II (1995)</td>\n",
       "      <td>Comedy</td>\n",
       "    </tr>\n",
       "  </tbody>\n",
       "</table>\n",
       "</div>"
      ],
      "text/plain": [
       "   movieId                               title  \\\n",
       "0        1                    Toy Story (1995)   \n",
       "1        2                      Jumanji (1995)   \n",
       "2        3             Grumpier Old Men (1995)   \n",
       "3        4            Waiting to Exhale (1995)   \n",
       "4        5  Father of the Bride Part II (1995)   \n",
       "\n",
       "                                        genres  \n",
       "0  Adventure|Animation|Children|Comedy|Fantasy  \n",
       "1                   Adventure|Children|Fantasy  \n",
       "2                               Comedy|Romance  \n",
       "3                         Comedy|Drama|Romance  \n",
       "4                                       Comedy  "
      ]
     },
     "execution_count": 2,
     "metadata": {},
     "output_type": "execute_result"
    }
   ],
   "source": [
    "# Load movies\n",
    "movies = pd.read_csv('ml-latest-small/movies.csv', usecols=['movieId', 'title', 'genres'])\n",
    "movies.head()"
   ]
  },
  {
   "cell_type": "code",
   "execution_count": 109,
   "metadata": {},
   "outputs": [],
   "source": [
    "\n",
    "from keras.layers import Embedding, Reshape, Concatenate,dot,Input,Dense\n",
    "from keras.models import Model\n",
    "from keras.callbacks import Callback, EarlyStopping, ModelCheckpoint\n",
    "\n",
    "factors = 100 # The number of dimensional embeddings for movies and users\n",
    "\n",
    "\n",
    "# Create training set\n",
    "#shuffled_ratings = ratings.sample(frac=1)\n",
    "\n",
    "# Shuffling users\n",
    "#user_ids = shuffled_ratings['userId'].values\n",
    "\n",
    "# Shuffling movies\n",
    "#movie_ids = shuffled_ratings['movieId'].values\n",
    "\n",
    "# Shuffling ratings\n",
    "#ratings_list = shuffled_ratings['rating'].values\n",
    "\n",
    "\n",
    "user_ids = ratings['userId'].values\n",
    "movie_ids = ratings['movieId'].values\n",
    "ratings_list = ratings['rating'].values\n"
   ]
  },
  {
   "cell_type": "code",
   "execution_count": null,
   "metadata": {},
   "outputs": [
    {
     "name": "stdout",
     "output_type": "stream",
     "text": [
      "Train on 90752 samples, validate on 10084 samples\n",
      "Epoch 1/30\n",
      " - 1343s - loss: 13.3690 - val_loss: 11.8135\n",
      "Epoch 2/30\n"
     ]
    }
   ],
   "source": [
    "# user_layers is the embedding layer that creates an User by latent factors matrix.\n",
    "\n",
    "user_input = Input(shape=(1,), name = 'user_layers')\n",
    "user_middle  = Embedding(max_userid, factors,input_length=1)(user_input)\n",
    "user_layers  = Reshape(target_shape=(factors,))(user_middle)\n",
    "\n",
    "\n",
    "# movie_layers is the embedding layer that creates a Movie by latent factors matrix.\n",
    "movie_input = Input(shape=(1,), name = 'movie_layers')\n",
    "movie_middle  = Embedding(max_movieid, factors,input_length=1)(movie_input)\n",
    "movie_layers  = Reshape(target_shape=(factors,))(movie_middle)\n",
    "\n",
    "output = dot([user_layers,movie_layers], axes=1)\n",
    "\n",
    "model = Model(inputs=[user_input,movie_input], \n",
    "                  outputs=output)\n",
    "\n",
    "#model = Model(inputs=[user_layers, movie_layers],output=dot_product)\n",
    "#model.Dot(left, right)\n",
    "model.compile(loss='mse', optimizer='adamax')\n",
    "# Callbacks monitor the validation loss\n",
    "# Save the model weights each time the validation loss has improved\n",
    "callbacks = [EarlyStopping('val_loss', patience=2),  \n",
    "    ModelCheckpoint('movie_weights.h5', save_best_only=True)]\n",
    "history = model.fit([user_ids,movie_ids], ratings_list, epochs=30, validation_split=.1, verbose=2, callbacks=callbacks)"
   ]
  },
  {
   "cell_type": "code",
   "execution_count": null,
   "metadata": {},
   "outputs": [],
   "source": []
  }
 ],
 "metadata": {
  "kernelspec": {
   "display_name": "Python 3",
   "language": "python",
   "name": "python3"
  },
  "language_info": {
   "codemirror_mode": {
    "name": "ipython",
    "version": 3
   },
   "file_extension": ".py",
   "mimetype": "text/x-python",
   "name": "python",
   "nbconvert_exporter": "python",
   "pygments_lexer": "ipython3",
   "version": "3.7.4"
  }
 },
 "nbformat": 4,
 "nbformat_minor": 2
}
